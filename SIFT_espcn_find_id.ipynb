{
 "cells": [
  {
   "cell_type": "code",
   "execution_count": null,
   "id": "fb441523",
   "metadata": {},
   "outputs": [],
   "source": [
    "# conda activate py38\n",
    "import cv2\n",
    "import numpy as np\n",
    "import matplotlib.pyplot as plt\n",
    "import os"
   ]
  },
  {
   "cell_type": "code",
   "execution_count": null,
   "id": "d1449148",
   "metadata": {},
   "outputs": [],
   "source": [
    "cv2.__version__"
   ]
  },
  {
   "cell_type": "code",
   "execution_count": null,
   "id": "94133ba2",
   "metadata": {},
   "outputs": [],
   "source": [
    "# Super Resolution\n",
    "path = \"ESPCN/ESPCN_x4.pb\"\n",
    "sr = cv2.dnn_superres.DnnSuperResImpl_create()\n",
    "sr.readModel(path)\n",
    "sr.setModel(\"espcn\",4)"
   ]
  },
  {
   "cell_type": "code",
   "execution_count": null,
   "id": "e38c6390",
   "metadata": {},
   "outputs": [],
   "source": [
    "sift = cv2.xfeatures2d.SIFT_create(1000)"
   ]
  },
  {
   "cell_type": "code",
   "execution_count": null,
   "id": "9175dd23",
   "metadata": {},
   "outputs": [],
   "source": [
    "prev_path = \"previous_img/\"\n",
    "cur_path = \"current_img/\"\n",
    "prev_img = []\n",
    "cur_img = []\n",
    "prev_img_list = os.listdir(prev_path)\n",
    "print(prev_img_list)\n",
    "cur_img_list = os.listdir(cur_path)\n",
    "print(cur_img_list)\n",
    "#print('Total Classes Detected', len(pre_img_list))\n",
    "class_names = []\n",
    "\n",
    "for cl in prev_img_list:\n",
    "    img = cv2.imread(f'{prev_path}/{cl}',0)\n",
    "    #img = cv2.cvtColor(img, cv2.COLOR_BGR2GRAY)\n",
    "    img = sr.upsample(img) # Super Resolution\n",
    "    img = cv2.pyrUp(img)\n",
    "    img = cv2.pyrUp(img)\n",
    "    prev_img.append(img)\n",
    "    class_names.append(os.path.splitext(cl)[0])\n",
    "\n",
    "for cl in cur_img_list:\n",
    "    img = cv2.imread(f'{cur_path}/{cl}',0)\n",
    "    img = sr.upsample(img) # Super Resolution\n",
    "    #img = cv2.cvtColor(img, cv2.COLOR_BGR2GRAY)\n",
    "    img = cv2.pyrUp(img)\n",
    "    img = cv2.pyrUp(img)\n",
    "    cur_img.append(img)\n",
    "    \n",
    "print(class_names)"
   ]
  },
  {
   "cell_type": "code",
   "execution_count": null,
   "id": "ee4e6e52",
   "metadata": {},
   "outputs": [],
   "source": [
    "def findDes(images):\n",
    "    desList=[]\n",
    "    for img in images:\n",
    "        kp, des = sift.detectAndCompute(img,None)\n",
    "        desList.append(des)\n",
    "    return desList"
   ]
  },
  {
   "cell_type": "code",
   "execution_count": null,
   "id": "bebfbd96",
   "metadata": {},
   "outputs": [],
   "source": [
    "def findID(img, prev_desList, thres):\n",
    "    cur_kpn, cur_des = sift.detectAndCompute(img, None)\n",
    "    \n",
    "    bf = cv2.BFMatcher()\n",
    "    matchList = []\n",
    "    finalVal = -1\n",
    "    try:\n",
    "        for p_des in prev_desList:\n",
    "            matches = bf.knnMatch(p_des, cur_des, k=2)\n",
    "            good = []\n",
    "            for m, n in matches:\n",
    "                if m.distance <0.75 *n.distance:\n",
    "                    good.append([m])\n",
    "            #print(len(good))\n",
    "            matchList.append(len(good))\n",
    "        #print(matchList)\n",
    "    except:\n",
    "        print(\"pass\")\n",
    "        pass\n",
    "\n",
    "    if len(matchList)!=0:\n",
    "        if max(matchList) > thres:\n",
    "            finalVal = matchList.index(max(matchList))\n",
    "\n",
    "    return finalVal"
   ]
  },
  {
   "cell_type": "code",
   "execution_count": null,
   "id": "a21ccd0e",
   "metadata": {},
   "outputs": [],
   "source": [
    "print(prev_img_list)"
   ]
  },
  {
   "cell_type": "code",
   "execution_count": null,
   "id": "75fa2930",
   "metadata": {},
   "outputs": [],
   "source": [
    "# giving img_index=0~4 to test ID recognition\n",
    "img_index = 0\n",
    "prev_desList = findDes(prev_img)\n",
    "rec_id = findID(cur_img[img_index], prev_desList, 2)\n",
    "\n",
    "print(\"bring current frame object: \" + cur_img_list[img_index] + \" to find objcet on the previous frame\")\n",
    "plt.imshow(cur_img[img_index])\n",
    "plt.show()\n",
    "if rec_id != -1:\n",
    "    regc = class_names[rec_id]\n",
    "    print(\"recognized: \" + regc)\n",
    "    plt.imshow(prev_img[class_names.index(regc)])\n",
    "    plt.show()\n",
    "else:\n",
    "    print(\"bring current frame object:\" + cur_img_list[img_index] + \" to find objcet on the previous frame\")\n",
    "    print(\"couldn't find this object on the previous frame\")"
   ]
  }
 ],
 "metadata": {
  "kernelspec": {
   "display_name": "Python 3",
   "language": "python",
   "name": "python3"
  },
  "language_info": {
   "codemirror_mode": {
    "name": "ipython",
    "version": 3
   },
   "file_extension": ".py",
   "mimetype": "text/x-python",
   "name": "python",
   "nbconvert_exporter": "python",
   "pygments_lexer": "ipython3",
   "version": "3.8.8"
  }
 },
 "nbformat": 4,
 "nbformat_minor": 5
}
