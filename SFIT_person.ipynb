{
 "cells": [
  {
   "cell_type": "code",
   "execution_count": null,
   "metadata": {},
   "outputs": [],
   "source": [
    "import cv2 \n",
    "import matplotlib.pyplot as plt\n",
    "import os"
   ]
  },
  {
   "cell_type": "code",
   "execution_count": null,
   "metadata": {},
   "outputs": [],
   "source": [
    "cv2.__version__"
   ]
  },
  {
   "cell_type": "code",
   "execution_count": null,
   "metadata": {},
   "outputs": [],
   "source": [
    "sift = cv2.xfeatures2d.SIFT_create()"
   ]
  },
  {
   "cell_type": "code",
   "execution_count": null,
   "metadata": {},
   "outputs": [],
   "source": [
    "# Super Resolution\n",
    "path = \"ESPCN/ESPCN_x4.pb\"\n",
    "sr = cv2.dnn_superres.DnnSuperResImpl_create()\n",
    "sr.readModel(path)\n",
    "sr.setModel(\"espcn\",4)"
   ]
  },
  {
   "cell_type": "code",
   "execution_count": null,
   "metadata": {},
   "outputs": [],
   "source": [
    "prev_path = \"previous_img/\"\n",
    "cur_path = \"current_img/\"\n",
    "prev_img = []\n",
    "cur_img = []\n",
    "prev_img_list = os.listdir(prev_path)\n",
    "print(prev_img_list)\n",
    "cur_img_list = os.listdir(cur_path)\n",
    "print(cur_img_list)\n",
    "#print('Total Classes Detected', len(pre_img_list))\n",
    "class_names = []\n",
    "\n",
    "for cl in prev_img_list:\n",
    "    img = cv2.imread(f'{prev_path}/{cl}',0)\n",
    "    #img = cv2.cvtColor(img, cv2.COLOR_BGR2GRAY)\n",
    "    img = sr.upsample(img) # Super Resolution\n",
    "    img = cv2.pyrUp(img)\n",
    "    img = cv2.pyrUp(img)\n",
    "    prev_img.append(img)\n",
    "    class_names.append(os.path.splitext(cl)[0])\n",
    "\n",
    "for cl in cur_img_list:\n",
    "    img = cv2.imread(f'{cur_path}/{cl}',0)\n",
    "    img = sr.upsample(img) # Super Resolution\n",
    "    #img = cv2.cvtColor(img, cv2.COLOR_BGR2GRAY)\n",
    "    img = cv2.pyrUp(img)\n",
    "    img = cv2.pyrUp(img)\n",
    "    cur_img.append(img)\n",
    "    \n",
    "print(class_names)"
   ]
  },
  {
   "cell_type": "code",
   "execution_count": null,
   "metadata": {},
   "outputs": [],
   "source": [
    "#feature matching\n",
    "bf = cv2.BFMatcher(cv2.NORM_L1, crossCheck=True)"
   ]
  },
  {
   "cell_type": "code",
   "execution_count": null,
   "metadata": {},
   "outputs": [],
   "source": [
    "# show image1\n",
    "figure, ax = plt.subplots(1, 2, figsize=(8, 8))\n",
    "ax[0].imshow(prev_img[0], cmap='gray')\n",
    "ax[1].imshow(cur_img[0], cmap='gray')\n",
    "# sift images1\n",
    "kp1p, des1p = sift.detectAndCompute(prev_img[0],None)\n",
    "kp1n, des1n = sift.detectAndCompute(cur_img[0],None)\n",
    "len(kp1p), len(kp1n)"
   ]
  },
  {
   "cell_type": "code",
   "execution_count": null,
   "metadata": {},
   "outputs": [],
   "source": [
    "matches1 = bf.match(des1p, des1n)\n",
    "matches1 = sorted(matches1, key = lambda x:x.distance)\n",
    "imgc1 = cv2.drawMatches(prev_img[0], kp1p, cur_img[0], kp1n, matches1[:50], cur_img[0], flags=2)\n",
    "plt.figure(figsize = (10,10))\n",
    "plt.imshow(imgc1)\n",
    "plt.show()"
   ]
  },
  {
   "cell_type": "code",
   "execution_count": null,
   "metadata": {},
   "outputs": [],
   "source": [
    "# show image2\n",
    "figure, ax = plt.subplots(1, 2, figsize=(8, 8))\n",
    "ax[0].imshow(prev_img[1], cmap='gray')\n",
    "ax[1].imshow(cur_img[1], cmap='gray')\n",
    "kp2p, des2p = sift.detectAndCompute(prev_img[1],None)\n",
    "kp2n, des2n = sift.detectAndCompute(cur_img[1],None)\n",
    "len(kp2p), len(kp2n)"
   ]
  },
  {
   "cell_type": "code",
   "execution_count": null,
   "metadata": {},
   "outputs": [],
   "source": [
    "matches2 = bf.match(des2p, des2n)\n",
    "matches2 = sorted(matches2, key = lambda x:x.distance)\n",
    "imgc2 = cv2.drawMatches(prev_img[1], kp2p, cur_img[1], kp2n, matches2[:50], cur_img[1], flags=2)\n",
    "plt.figure(figsize = (10,10))\n",
    "plt.imshow(imgc2)\n",
    "plt.show()"
   ]
  },
  {
   "cell_type": "code",
   "execution_count": null,
   "metadata": {},
   "outputs": [],
   "source": [
    "# show image3\n",
    "figure, ax = plt.subplots(1, 2, figsize=(8, 8))\n",
    "ax[0].imshow(prev_img[2], cmap='gray')\n",
    "ax[1].imshow(cur_img[2], cmap='gray')\n",
    "kp3p, des3p = sift.detectAndCompute(prev_img[2],None)\n",
    "kp3n, des3n = sift.detectAndCompute(cur_img[2],None)\n",
    "len(kp3p), len(kp3n)"
   ]
  },
  {
   "cell_type": "code",
   "execution_count": null,
   "metadata": {},
   "outputs": [],
   "source": [
    "matches3 = bf.match(des3p, des3n)\n",
    "matches3 = sorted(matches3, key = lambda x:x.distance)\n",
    "imgc3 = cv2.drawMatches(prev_img[2], kp3p, cur_img[2], kp3n, matches3[:50], cur_img[2], flags=2)\n",
    "plt.figure(figsize = (10,10))\n",
    "plt.imshow(imgc3)\n",
    "plt.show()"
   ]
  },
  {
   "cell_type": "code",
   "execution_count": null,
   "metadata": {},
   "outputs": [],
   "source": [
    "# show image4\n",
    "figure, ax = plt.subplots(1, 2, figsize=(8, 8))\n",
    "ax[0].imshow(prev_img[3], cmap='gray')\n",
    "ax[1].imshow(cur_img[3], cmap='gray')\n",
    "kp4p, des4p = sift.detectAndCompute(prev_img[3],None)\n",
    "kp4n, des4n = sift.detectAndCompute(cur_img[3],None)\n",
    "len(kp4p), len(kp4n)"
   ]
  },
  {
   "cell_type": "code",
   "execution_count": null,
   "metadata": {},
   "outputs": [],
   "source": [
    "matches4 = bf.match(des4p, des4n)\n",
    "matches4 = sorted(matches4, key = lambda x:x.distance)\n",
    "imgc4 = cv2.drawMatches(prev_img[3], kp4p, cur_img[3], kp4n, matches4[:50], cur_img[3], flags=2)\n",
    "plt.figure(figsize = (10,10))\n",
    "plt.imshow(imgc4)\n",
    "plt.show()"
   ]
  },
  {
   "cell_type": "code",
   "execution_count": null,
   "metadata": {},
   "outputs": [],
   "source": [
    "# show image5\n",
    "figure, ax = plt.subplots(1, 2, figsize=(8, 8))\n",
    "ax[0].imshow(prev_img[4], cmap='gray')\n",
    "ax[1].imshow(cur_img[4], cmap='gray')\n",
    "kp5p, des5p = sift.detectAndCompute(prev_img[4],None)\n",
    "kp5n, des5n = sift.detectAndCompute(cur_img[4],None)\n",
    "len(kp5p), len(kp5n)"
   ]
  },
  {
   "cell_type": "code",
   "execution_count": null,
   "metadata": {},
   "outputs": [],
   "source": [
    "matches5 = bf.match(des5p, des5n)\n",
    "matches5 = sorted(matches5, key = lambda x:x.distance)\n",
    "imgc5 = cv2.drawMatches(prev_img[4], kp5p, cur_img[4], kp5n, matches5[:50], cur_img[4], flags=2)\n",
    "plt.figure(figsize = (10,10))\n",
    "plt.imshow(imgc5)\n",
    "plt.show()"
   ]
  }
 ],
 "metadata": {
  "kernelspec": {
   "display_name": "Python 3",
   "language": "python",
   "name": "python3"
  },
  "language_info": {
   "codemirror_mode": {
    "name": "ipython",
    "version": 3
   },
   "file_extension": ".py",
   "mimetype": "text/x-python",
   "name": "python",
   "nbconvert_exporter": "python",
   "pygments_lexer": "ipython3",
   "version": "3.8.8"
  }
 },
 "nbformat": 4,
 "nbformat_minor": 4
}
